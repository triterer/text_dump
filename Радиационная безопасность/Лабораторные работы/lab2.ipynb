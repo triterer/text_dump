{
 "cells": [
  {
   "cell_type": "code",
   "execution_count": 5,
   "id": "eabdd227-1128-4adb-b64a-06e7d3857f2a",
   "metadata": {},
   "outputs": [],
   "source": [
    "import math"
   ]
  },
  {
   "cell_type": "markdown",
   "id": "6f34f10d-ef5b-40e4-8867-0e41d57a7824",
   "metadata": {},
   "source": [
    "# Задача 1"
   ]
  },
  {
   "cell_type": "code",
   "execution_count": 1,
   "id": "7815ead9-a5d9-423d-9118-d93392190f89",
   "metadata": {},
   "outputs": [],
   "source": [
    "def alpha_air(e0):\n",
    "    return 1.24 * e0 - 2.62"
   ]
  },
  {
   "cell_type": "code",
   "execution_count": 2,
   "id": "a6599f43-b06e-4f6d-9e31-2e49d618615c",
   "metadata": {},
   "outputs": [],
   "source": [
    "# Атомарная масса алюминия Am = 27\n",
    "def alpha_not_air(e0, rox, Am = 27):\n",
    "    return (10 ** -4) * ((Am * e0 ** 3) ** 0.5) / rox"
   ]
  },
  {
   "cell_type": "code",
   "execution_count": 9,
   "id": "742ed17b-652e-4cd4-9de9-9123d2e74404",
   "metadata": {},
   "outputs": [
    {
     "data": {
      "text/plain": [
       "2.34"
      ]
     },
     "execution_count": 9,
     "metadata": {},
     "output_type": "execute_result"
    }
   ],
   "source": [
    "e0_air = 4\n",
    "alpha_air(e0_air)"
   ]
  },
  {
   "cell_type": "code",
   "execution_count": 4,
   "id": "33a9c95c-5d7d-4cfc-920c-4e904ee0227b",
   "metadata": {},
   "outputs": [
    {
     "data": {
      "text/plain": [
       "0.0015396007178390021"
      ]
     },
     "execution_count": 4,
     "metadata": {},
     "output_type": "execute_result"
    }
   ],
   "source": [
    "e0_aluminium = 4\n",
    "rox_aluminium = 2.7\n",
    "alpha_not_air(e0_aluminium, rox_aluminium)"
   ]
  },
  {
   "cell_type": "markdown",
   "id": "d6e847f7-3b90-4aab-876d-38d7025438fc",
   "metadata": {},
   "source": [
    "# Задача 2"
   ]
  },
  {
   "cell_type": "code",
   "execution_count": 6,
   "id": "048e9885-698e-4af8-876a-d291ef2b9592",
   "metadata": {},
   "outputs": [],
   "source": [
    "def plate_thickness(I0, iy, mu):\n",
    "    return math.log(I0/iy)/mu"
   ]
  },
  {
   "cell_type": "code",
   "execution_count": 7,
   "id": "d4593ba6-7ebf-4b5c-9093-36acc2f35ffe",
   "metadata": {},
   "outputs": [],
   "source": [
    "def half_weaker(mu):\n",
    "    return math.log(2)/mu"
   ]
  },
  {
   "cell_type": "code",
   "execution_count": 8,
   "id": "bbcda165-1bea-4770-a793-b83d7d696fca",
   "metadata": {},
   "outputs": [],
   "source": [
    "def mass_weaker_coefficient(mu, ro):\n",
    "    return mu/ro"
   ]
  },
  {
   "cell_type": "code",
   "execution_count": null,
   "id": "9c3feb3a-e2f3-429d-9de4-e994ae2ff1b6",
   "metadata": {},
   "outputs": [],
   "source": [
    "def getIy(I0, mu, d):\n",
    "    return math"
   ]
  }
 ],
 "metadata": {
  "kernelspec": {
   "display_name": "Python 3 (ipykernel)",
   "language": "python",
   "name": "python3"
  },
  "language_info": {
   "codemirror_mode": {
    "name": "ipython",
    "version": 3
   },
   "file_extension": ".py",
   "mimetype": "text/x-python",
   "name": "python",
   "nbconvert_exporter": "python",
   "pygments_lexer": "ipython3",
   "version": "3.12.4"
  }
 },
 "nbformat": 4,
 "nbformat_minor": 5
}
