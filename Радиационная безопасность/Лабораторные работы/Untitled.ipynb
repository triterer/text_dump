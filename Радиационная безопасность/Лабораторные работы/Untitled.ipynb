{
 "cells": [
  {
   "cell_type": "code",
   "execution_count": 1,
   "id": "63be9ded-26ee-46bd-af16-a397bffe8eec",
   "metadata": {},
   "outputs": [],
   "source": [
    "import math"
   ]
  },
  {
   "cell_type": "code",
   "execution_count": 2,
   "id": "4b8cbd38-c447-4464-992f-21cee4d1feb1",
   "metadata": {},
   "outputs": [
    {
     "data": {
      "text/plain": [
       "3.141592653589793"
      ]
     },
     "execution_count": 2,
     "metadata": {},
     "output_type": "execute_result"
    }
   ],
   "source": [
    "math.pi"
   ]
  },
  {
   "cell_type": "code",
   "execution_count": 3,
   "id": "28ea0057-8e6b-4139-8737-228d7ae79d73",
   "metadata": {},
   "outputs": [],
   "source": [
    "def calcI(S, t, nu):\n",
    "    omega = 0.4519\n",
    "    return 4 * math.pi * S /(omega * t * nu)"
   ]
  },
  {
   "cell_type": "code",
   "execution_count": 15,
   "id": "43624a2f-16a9-41a6-a151-972f52b7a31b",
   "metadata": {},
   "outputs": [],
   "source": [
    "t = 600.35"
   ]
  },
  {
   "cell_type": "code",
   "execution_count": 22,
   "id": "c0e34ca4-52df-43c2-bc04-5b7a4de3cb6b",
   "metadata": {},
   "outputs": [
    {
     "name": "stdout",
     "output_type": "stream",
     "text": [
      "6.086370317789635\n"
     ]
    },
    {
     "data": {
      "text/plain": [
       "0.0980881598354494"
      ]
     },
     "execution_count": 22,
     "metadata": {},
     "output_type": "execute_result"
    }
   ],
   "source": [
    "S1 =  13140 \n",
    "nu1 = 100\n",
    "Q = 62.05\n",
    "I = calcI(S1, t, nu1)\n",
    "print(I)\n",
    "I/Q"
   ]
  },
  {
   "cell_type": "code",
   "execution_count": null,
   "id": "31792706-77eb-4c02-a1bf-c89481a83b36",
   "metadata": {},
   "outputs": [],
   "source": []
  }
 ],
 "metadata": {
  "kernelspec": {
   "display_name": "Python 3 (ipykernel)",
   "language": "python",
   "name": "python3"
  },
  "language_info": {
   "codemirror_mode": {
    "name": "ipython",
    "version": 3
   },
   "file_extension": ".py",
   "mimetype": "text/x-python",
   "name": "python",
   "nbconvert_exporter": "python",
   "pygments_lexer": "ipython3",
   "version": "3.12.4"
  }
 },
 "nbformat": 4,
 "nbformat_minor": 5
}
